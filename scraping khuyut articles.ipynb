{
 "cells": [
  {
   "cell_type": "code",
   "execution_count": 1,
   "metadata": {},
   "outputs": [],
   "source": [
    "import pandas as pd\n",
    "import requests\n",
    "from bs4 import BeautifulSoup\n",
    "import get_kuyut_links as kh"
   ]
  },
  {
   "cell_type": "markdown",
   "metadata": {},
   "source": [
    "First, we extract all articles links and save them as an Excel file for future experiments and full scraping."
   ]
  },
  {
   "cell_type": "code",
   "execution_count": 2,
   "metadata": {},
   "outputs": [],
   "source": [
    "\n",
    "all_links = kh.scraping_khuyut_links()\n",
    "links_df = pd.DataFrame(all_links, columns=['links'])\n",
    "links_df.to_excel('all_links.xlsx', index=False)\n"
   ]
  },
  {
   "cell_type": "code",
   "execution_count": 8,
   "metadata": {},
   "outputs": [],
   "source": [
    "links_df = pd.read_excel('all_links.xlsx')\n"
   ]
  },
  {
   "cell_type": "code",
   "execution_count": 9,
   "metadata": {},
   "outputs": [],
   "source": [
    "base_link = 'https://www.khuyut.com/'"
   ]
  },
  {
   "cell_type": "code",
   "execution_count": 15,
   "metadata": {},
   "outputs": [],
   "source": [
    "dict_all = {}\n",
    "\n",
    "for url in links_df['links'][:20]: # remove \"[:20]\" if you want to scrape all articles, it will take about four hours to complete.\n",
    "    dict_khuyut = {}\n",
    "    response = requests.get(base_link + url)\n",
    "    soup = BeautifulSoup(response.content, 'html.parser')\n",
    "    text = soup.find('div', class_= 'postrich w-richtext')\n",
    "    title = soup.find('h1', class_= 'sliderheaderh1 blogpost')\n",
    "    sub_title= soup.find('div', class_= 'sliderheadersubtitle')\n",
    "    date = soup.find('div', class_= 'date')\n",
    "    auther_name = soup.find('div', class_= 'authername')\n",
    "    category = soup.find('a', class_= 'breadcrumb')\n",
    "    sub_category = soup.find('a', class_= 'breadcrumb sub')\n",
    "\n",
    "    dict_khuyut['text'] = text.text\n",
    "    dict_khuyut['title'] = title.text\n",
    "    dict_khuyut['sub_title'] = sub_title.text\n",
    "    dict_khuyut['date'] = date.text\n",
    "    dict_khuyut['author_name'] = auther_name.text\n",
    "    dict_khuyut['category'] = category.text\n",
    "    dict_khuyut['sub_category'] = sub_category.text\n",
    "    dict_all[base_link + url] = dict_khuyut\n",
    "\n",
    "\n"
   ]
  },
  {
   "cell_type": "code",
   "execution_count": 11,
   "metadata": {},
   "outputs": [],
   "source": [
    "df_khuyut = pd.DataFrame.from_dict(dict_all, orient='index')\n"
   ]
  },
  {
   "cell_type": "code",
   "execution_count": 13,
   "metadata": {},
   "outputs": [
    {
     "data": {
      "text/html": [
       "<div>\n",
       "<style scoped>\n",
       "    .dataframe tbody tr th:only-of-type {\n",
       "        vertical-align: middle;\n",
       "    }\n",
       "\n",
       "    .dataframe tbody tr th {\n",
       "        vertical-align: top;\n",
       "    }\n",
       "\n",
       "    .dataframe thead th {\n",
       "        text-align: right;\n",
       "    }\n",
       "</style>\n",
       "<table border=\"1\" class=\"dataframe\">\n",
       "  <thead>\n",
       "    <tr style=\"text-align: right;\">\n",
       "      <th></th>\n",
       "      <th>text</th>\n",
       "      <th>title</th>\n",
       "      <th>sub_title</th>\n",
       "      <th>date</th>\n",
       "      <th>auther_name</th>\n",
       "      <th>category</th>\n",
       "      <th>sub_category</th>\n",
       "    </tr>\n",
       "  </thead>\n",
       "  <tbody>\n",
       "    <tr>\n",
       "      <th>https://www.khuyut.com//blog/laughing-bullet</th>\n",
       "      <td>الفرحة هي شيء يشبه المعجزة لِمَا تُحدثه فينا م...</td>\n",
       "      <td>الرصاصة \"الضاحكة\"</td>\n",
       "      <td>حتى الفرح أصبح عقوبة في المجتمع اليمني\\n</td>\n",
       "      <td>April 15, 2024</td>\n",
       "      <td>وفاء فرحان</td>\n",
       "      <td>نسيج</td>\n",
       "      <td>مدونة</td>\n",
       "    </tr>\n",
       "    <tr>\n",
       "      <th>https://www.khuyut.com//blog/religious-singing</th>\n",
       "      <td>قبل عرض جوانب بسيطة من تجربتي مع الإنشاد الدين...</td>\n",
       "      <td>أنا والإنشاد الديني</td>\n",
       "      <td>قصيدة \"تركية\" أشعلت حماس المستمعين\\n</td>\n",
       "      <td>April 9, 2024</td>\n",
       "      <td>دعاء الواسعي</td>\n",
       "      <td>نسيج</td>\n",
       "      <td>مدونة</td>\n",
       "    </tr>\n",
       "    <tr>\n",
       "      <th>https://www.khuyut.com//blog/ramadan-in-yem</th>\n",
       "      <td>رمضان، شهرٌ مباركٌ يطل علينا كلَّ عامٍ حاملًا ...</td>\n",
       "      <td>رمضان في اليمن</td>\n",
       "      <td>رحلةٌ روحيّةٌ تُقاومُ \"سيزيفيّةَ\" الحياة\\n</td>\n",
       "      <td>March 31, 2024</td>\n",
       "      <td>د. أحمد صالح الفراصي</td>\n",
       "      <td>نسيج</td>\n",
       "      <td>مدونة</td>\n",
       "    </tr>\n",
       "    <tr>\n",
       "      <th>https://www.khuyut.com//blog/abyan-checkpoints</th>\n",
       "      <td>لم يلبث تَوَقُّفُ النقاط الأمنية بمحافظة أَبْي...</td>\n",
       "      <td>عودة ضارية لـ\"نقاط الجباية\" في أبين</td>\n",
       "      <td>بعد شهرين رجعت بلبوس جديدة ومبالغ مضاعفة\\n</td>\n",
       "      <td>March 22, 2024</td>\n",
       "      <td>خيوط</td>\n",
       "      <td>نسيج</td>\n",
       "      <td>مدونة</td>\n",
       "    </tr>\n",
       "    <tr>\n",
       "      <th>https://www.khuyut.com//blog/lahj-checkpoints</th>\n",
       "      <td>نظرًا للواقع المعقّد الذي أفرزه واقع الصراع في...</td>\n",
       "      <td>سككك \"لحج\" المفخخة بالنقاط والموازين</td>\n",
       "      <td>الجباية؛ تذكرة إجبارية لعبور الطريق\\n</td>\n",
       "      <td>March 15, 2024</td>\n",
       "      <td>خيوط</td>\n",
       "      <td>نسيج</td>\n",
       "      <td>مدونة</td>\n",
       "    </tr>\n",
       "  </tbody>\n",
       "</table>\n",
       "</div>"
      ],
      "text/plain": [
       "                                                                                             text  \\\n",
       "https://www.khuyut.com//blog/laughing-bullet    الفرحة هي شيء يشبه المعجزة لِمَا تُحدثه فينا م...   \n",
       "https://www.khuyut.com//blog/religious-singing  قبل عرض جوانب بسيطة من تجربتي مع الإنشاد الدين...   \n",
       "https://www.khuyut.com//blog/ramadan-in-yem     رمضان، شهرٌ مباركٌ يطل علينا كلَّ عامٍ حاملًا ...   \n",
       "https://www.khuyut.com//blog/abyan-checkpoints  لم يلبث تَوَقُّفُ النقاط الأمنية بمحافظة أَبْي...   \n",
       "https://www.khuyut.com//blog/lahj-checkpoints   نظرًا للواقع المعقّد الذي أفرزه واقع الصراع في...   \n",
       "\n",
       "                                                                               title  \\\n",
       "https://www.khuyut.com//blog/laughing-bullet                       الرصاصة \"الضاحكة\"   \n",
       "https://www.khuyut.com//blog/religious-singing                   أنا والإنشاد الديني   \n",
       "https://www.khuyut.com//blog/ramadan-in-yem                           رمضان في اليمن   \n",
       "https://www.khuyut.com//blog/abyan-checkpoints   عودة ضارية لـ\"نقاط الجباية\" في أبين   \n",
       "https://www.khuyut.com//blog/lahj-checkpoints   سككك \"لحج\" المفخخة بالنقاط والموازين   \n",
       "\n",
       "                                                                                 sub_title  \\\n",
       "https://www.khuyut.com//blog/laughing-bullet      حتى الفرح أصبح عقوبة في المجتمع اليمني\\n   \n",
       "https://www.khuyut.com//blog/religious-singing        قصيدة \"تركية\" أشعلت حماس المستمعين\\n   \n",
       "https://www.khuyut.com//blog/ramadan-in-yem     رحلةٌ روحيّةٌ تُقاومُ \"سيزيفيّةَ\" الحياة\\n   \n",
       "https://www.khuyut.com//blog/abyan-checkpoints  بعد شهرين رجعت بلبوس جديدة ومبالغ مضاعفة\\n   \n",
       "https://www.khuyut.com//blog/lahj-checkpoints        الجباية؛ تذكرة إجبارية لعبور الطريق\\n   \n",
       "\n",
       "                                                          date  \\\n",
       "https://www.khuyut.com//blog/laughing-bullet    April 15, 2024   \n",
       "https://www.khuyut.com//blog/religious-singing   April 9, 2024   \n",
       "https://www.khuyut.com//blog/ramadan-in-yem     March 31, 2024   \n",
       "https://www.khuyut.com//blog/abyan-checkpoints  March 22, 2024   \n",
       "https://www.khuyut.com//blog/lahj-checkpoints   March 15, 2024   \n",
       "\n",
       "                                                         auther_name category  \\\n",
       "https://www.khuyut.com//blog/laughing-bullet              وفاء فرحان     نسيج   \n",
       "https://www.khuyut.com//blog/religious-singing          دعاء الواسعي     نسيج   \n",
       "https://www.khuyut.com//blog/ramadan-in-yem     د. أحمد صالح الفراصي     نسيج   \n",
       "https://www.khuyut.com//blog/abyan-checkpoints                  خيوط     نسيج   \n",
       "https://www.khuyut.com//blog/lahj-checkpoints                   خيوط     نسيج   \n",
       "\n",
       "                                               sub_category  \n",
       "https://www.khuyut.com//blog/laughing-bullet          مدونة  \n",
       "https://www.khuyut.com//blog/religious-singing        مدونة  \n",
       "https://www.khuyut.com//blog/ramadan-in-yem           مدونة  \n",
       "https://www.khuyut.com//blog/abyan-checkpoints        مدونة  \n",
       "https://www.khuyut.com//blog/lahj-checkpoints         مدونة  "
      ]
     },
     "execution_count": 13,
     "metadata": {},
     "output_type": "execute_result"
    }
   ],
   "source": [
    "df_khuyut.head()"
   ]
  },
  {
   "cell_type": "code",
   "execution_count": 14,
   "metadata": {},
   "outputs": [],
   "source": [
    "df_khuyut.to_excel('sample_articles.xlsx', index=False)"
   ]
  }
 ],
 "metadata": {
  "kernelspec": {
   "display_name": "ara_exp",
   "language": "python",
   "name": "python3"
  },
  "language_info": {
   "codemirror_mode": {
    "name": "ipython",
    "version": 3
   },
   "file_extension": ".py",
   "mimetype": "text/x-python",
   "name": "python",
   "nbconvert_exporter": "python",
   "pygments_lexer": "ipython3",
   "version": "3.9.7"
  }
 },
 "nbformat": 4,
 "nbformat_minor": 2
}
